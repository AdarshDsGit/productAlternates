{
 "cells": [
  {
   "cell_type": "markdown",
   "id": "162d8724",
   "metadata": {},
   "source": [
    "# Store Domains\n",
    "\n",
    "\n",
    "- [https://www.woolsboutiqueuomo.com/collections/all](https://www.woolsboutiqueuomo.com/collections/all)\n",
    "\n",
    "- [https://sartale2022.myshopify.com/collections/all](https://sartale2022.myshopify.com/collections/all)\n",
    "\n",
    "- [https://berkehome.pl/collections/all](https://berkehome.pl/collections/all)\n",
    "\n",
    "- [https://glamaroustitijewels.com/collections/all](https://glamaroustitijewels.com/collections/all)\n",
    "\n",
    "- [https://lampsdepot.com/collections/all](https://lampsdepot.com/collections/all)\n",
    "\n",
    "- [https://kitchenoasis.com/collections/all](https://kitchenoasis.com/collections/all)"
   ]
  },
  {
   "cell_type": "code",
   "execution_count": 2,
   "id": "3220c9c1",
   "metadata": {},
   "outputs": [
    {
     "name": "stdout",
     "output_type": "stream",
     "text": [
      "[{\"product alternates\": [\"https://www.woolsboutiqueuomo.comtshirt-ossigeno-cotton-army-green-cruciani\", \"https://www.woolsboutiqueuomo.comcruciani-mens-tshirt-ossigeno-cotton-blue\", \"https://www.woolsboutiqueuomo.comcruciani-mens-tshirt-ossigeno-cotton-long-sleeve-blu\", \"https://www.woolsboutiqueuomo.comcruciani-tshirt-ossigeno-cotton-white\"]}, {\"product alternates\": [\"https://www.woolsboutiqueuomo.comcruciani-vneck-sweater-cashmere-silk-grey\", \"https://www.woolsboutiqueuomo.comcruciani-sweater-cashmere-silk-marino-blue\", \"https://www.woolsboutiqueuomo.comcruciani-vneck-sweater-cashmere-silk-blue\"]}, {\"product alternates\": [\"https://www.woolsboutiqueuomo.comfmarino-silk-tie-regimental-ruby\", \"https://www.woolsboutiqueuomo.comfmarino-grenadine-silk-tie-regimental-ruby\"]}, {\"product alternates\": [\"https://www.woolsboutiqueuomo.comf-marino-handmade-3-fold-untipped-diamond-print-silk-tie-green\", \"https://www.woolsboutiqueuomo.comf-marino-handmade-3-fold-untipped-garden-silk-tie-green\", \"https://www.woolsboutiqueuomo.comf-marino-handmade-3-fold-untipped-regimental-silk-tie-petroleum-navy\", \"https://www.woolsboutiqueuomo.comfmarino-handmade-3fold-unlined-regimental-silktie-petroleum\", \"https://www.woolsboutiqueuomo.comf-marino-handmade-3-fold-untipped-silk-tie-green-diamond\", \"https://www.woolsboutiqueuomo.comf-marino-handmade-3-fold-untipped-wool-silk-tie-africa-one\"]}, {\"product alternates\": [\"https://www.woolsboutiqueuomo.comfmarino-7folds-satin-silk-tie-cobalt\", \"https://www.woolsboutiqueuomo.comfmarino-silktie-7folds-daisy-blue\", \"https://www.woolsboutiqueuomo.comfmarino-silktie-7folds-kelly-green\", \"https://www.woolsboutiqueuomo.comfmarino-7fold-silktie-ivory-vintage60s\", \"https://www.woolsboutiqueuomo.comfmarino-silk-tie-7folds-navyblue\", \"https://www.woolsboutiqueuomo.comfmarino-7folds-silktie-prussian\"]}, {\"product alternates\": [\"https://www.woolsboutiqueuomo.comfmarino-grenadine-black-silk-tie\", \"https://www.woolsboutiqueuomo.comfmarino-silk-tie-grenadine-red-bordeaux\", \"https://www.woolsboutiqueuomo.comfmarino-grenadine-silk-tie-green\", \"https://www.woolsboutiqueuomo.comfmarino-grenadine-silk-tie-grey\", \"https://www.woolsboutiqueuomo.comfmarino-grenadine-silk-tie-navy-blue\", \"https://www.woolsboutiqueuomo.comfmarino-grenadine-silk-tie-ferrari-red\"]}, {\"product alternates\": [\"https://www.woolsboutiqueuomo.comfmarino-tie-jacquard-silk-black\", \"https://www.woolsboutiqueuomo.comfmarino-jacquard-silktie-bronze-orange\", \"https://www.woolsboutiqueuomo.comfmarino-jacquard-silk-tie-navyblue\", \"https://www.woolsboutiqueuomo.comfmarino-jacquard-silk-tie-pine-green\", \"https://www.woolsboutiqueuomo.comfmarino-jacquard-silk-tie-regimental-ruby\", \"https://www.woolsboutiqueuomo.comfmarino-jacquard-silktie-regimental-rust\"]}, {\"product alternates\": [\"https://www.woolsboutiqueuomo.comfmarino-panama-silk-tie-pink\", \"https://www.woolsboutiqueuomo.comfrancesco-marino-silk-tie-teal-green\"]}, {\"product alternates\": [\"https://www.woolsboutiqueuomo.comfmarino-silk-tie-abstract-pattern\", \"https://www.woolsboutiqueuomo.comfmarino-silktie-abstract-red\", \"https://www.woolsboutiqueuomo.comfmarino-tie-bold-2d-octagon-brown\", \"https://www.woolsboutiqueuomo.comfmarino-handmade-silk-tie-brown-daisy\", \"https://www.woolsboutiqueuomo.comfmarino-silk-tie-cinnamon-brown\", \"https://www.woolsboutiqueuomo.comfmarino-handmade-silk-tie-coffee\", \"https://www.woolsboutiqueuomo.comfmarino-silk-tie-damask-glowing-blue\", \"https://www.woolsboutiqueuomo.comfmarino-silktie-damask-paisley-bronze\", \"https://www.woolsboutiqueuomo.comfmarino-silk-tie-microdiamonds-red\", \"https://www.woolsboutiqueuomo.comfmarino-fantasy-silktie-armygreen\", \"https://www.woolsboutiqueuomo.comfmarino-silk-tie-fantasy-navyblue\", \"https://www.woolsboutiqueuomo.comfmarino-silk-tie-copper\", \"https://www.woolsboutiqueuomo.comfmarino-silktie-fantasy-micro-geometry\", \"https://www.woolsboutiqueuomo.comfmarino-silk-tie-fantasy-ocra\", \"https://www.woolsboutiqueuomo.comfmarino-silk-tie-floral-fantasy-indigo\", \"https://www.woolsboutiqueuomo.comfmarino-silk-tie-floral-fantasy-red\", \"https://www.woolsboutiqueuomo.comfmarino-silktie-garden-carnations-blu\", \"https://www.woolsboutiqueuomo.comfmarino-silktie-garden-carnations-green\", \"https://www.woolsboutiqueuomo.comfmarino-silktie-garden-margherita-blu\", \"https://www.woolsboutiqueuomo.comfmarino-silktie-garden-margherita-green\", \"https://www.woolsboutiqueuomo.comfmarino-silk-tie-green-grass\", \"https://www.woolsboutiqueuomo.comfmarino-silktie-liberty-garden-brown\", \"https://www.woolsboutiqueuomo.comfmarino-silk-tie-floral-liberty-green\", \"https://www.woolsboutiqueuomo.comfmarino-silktie-persinan-blu\", \"https://www.woolsboutiqueuomo.comfmarino-handmade-silktie-liberty-rust\", \"https://www.woolsboutiqueuomo.comfmarino-handmade-silktie-lightblu\", \"https://www.woolsboutiqueuomo.comfmarino-black-handmade-silk-tie-pois\", \"https://www.woolsboutiqueuomo.comfmarino-pois-blue-silk-tie\", \"https://www.woolsboutiqueuomo.comfmarino-handmade-silktie-optical-brown\", \"https://www.woolsboutiqueuomo.comfmarino-silk-tie-paisley-blue-brown\", \"https://www.woolsboutiqueuomo.comfmarino-silktie-paisley-bordeaux-blue\", \"https://www.woolsboutiqueuomo.comfmarino-silk-tie-paisley-cherry\", \"https://www.woolsboutiqueuomo.comfmarino-silktie-3fold-paisley-magenta\", \"https://www.woolsboutiqueuomo.comfmarino-silk-tie-pois-yellow-bordo\", \"https://www.woolsboutiqueuomo.comfmarino-handmade-silktie-pois-lightblu\", \"https://www.woolsboutiqueuomo.comfmarino-white-tie-regimental-ivory-pink\", \"https://www.woolsboutiqueuomo.comfmarino-silk-tie-rhombus-vintage-style60s\", \"https://www.woolsboutiqueuomo.comfmarino-tie-vintage-style60s-blue\", \"https://www.woolsboutiqueuomo.comfmarino-silk-tie-blocks-style-60s\", \"https://www.woolsboutiqueuomo.comfmarino-silktie-style60s-plum\"]}, {\"product alternates\": [\"https://www.woolsboutiqueuomo.comfmarino-tie-hollandsherry-houdstooth\", \"https://www.woolsboutiqueuomo.comfmarino-tie-hollandsherry-wool-brown\", \"https://www.woolsboutiqueuomo.comfmarino-tie-hollandsherry-velvet\", \"https://www.woolsboutiqueuomo.comfmarino-wooltie-3fold-hollandsherry-grey\", \"https://www.woolsboutiqueuomo.comfmarino-tie-silk-vintage-car\", \"https://www.woolsboutiqueuomo.comfmarino-handmade-silktie-pieddepoule\", \"https://www.woolsboutiqueuomo.comfmarino-tie-jacquard-regimental-blockblu\", \"https://www.woolsboutiqueuomo.comfmarino-tie-jacquard-regimental-blockbordo\", \"https://www.woolsboutiqueuomo.comfmarino-tie-jacquard-regimental-blockgreen\", \"https://www.woolsboutiqueuomo.comfmarino-silktie-jacquard-regimental-bordo\", \"https://www.woolsboutiqueuomo.comfmarino-handmade-luxury-tie-blurails\", \"https://www.woolsboutiqueuomo.comfmarino-handmade-tie-regimental-pinstripe\", \"https://www.woolsboutiqueuomo.comfmarino-handmade-tie-regimental-railways\", \"https://www.woolsboutiqueuomo.comfmarino-napoli-handmade-tie-graphite\", \"https://www.woolsboutiqueuomo.comfmarino-tie-silk-cotton-pervinca\"]}, {\"product alternates\": [\"https://www.woolsboutiqueuomo.comfmarino-handmade-tie-7fold-silk-greenbottle\", \"https://www.woolsboutiqueuomo.comfmarino-silk-tie-7fold-microdiamond\", \"https://www.woolsboutiqueuomo.comfmarino-handmade-tie-7fold-silk-green\"]}, {\"product alternates\": [\"https://www.woolsboutiqueuomo.comfmarino-tartan-tie-linen-silk-blue\", \"https://www.woolsboutiqueuomo.comfmarino-tartan-tie-linen-silk-magenta\", \"https://www.woolsboutiqueuomo.comfmarino-tartan-tie-linen-silk-orange\"]}, {\"product alternates\": [\"https://www.woolsboutiqueuomo.comfmarino-brown-tie-silk-cotton-medallions\", \"https://www.woolsboutiqueuomo.comfmarino-fluo-green-tie-silk-cotton-medallions\"]}, {\"product alternates\": [\"https://www.woolsboutiqueuomo.comfmarino-wool-tie-black-duck\", \"https://www.woolsboutiqueuomo.comfmarino-wool-tie-check-caramel\", \"https://www.woolsboutiqueuomo.comfmarino-wool-tie-check-tobacco\", \"https://www.woolsboutiqueuomo.comfmarino-handmade-wool-tie-darkblue\", \"https://www.woolsboutiqueuomo.comfmarino-wool-tie-diamonds-avorio\", \"https://www.woolsboutiqueuomo.comfmarino-wooltie-donegal-tweed-blackwhite\", \"https://www.woolsboutiqueuomo.comfmarino-black-wool-tie-hollandsherry\", \"https://www.woolsboutiqueuomo.comfmarino-tie-hollandsherry-partridgeeye-grey\", \"https://www.woolsboutiqueuomo.comfmarino-wooltie-hollandsherry-pervinca\", \"https://www.woolsboutiqueuomo.comfmarino-wooltie-hollandsherry-petrol\", \"https://www.woolsboutiqueuomo.comfmarino-wooltie-hollandsherry-raspberry\", \"https://www.woolsboutiqueuomo.comfmarino-wool-tie-holland-sherry-violet\", \"https://www.woolsboutiqueuomo.comfmarino-wool-tie-keyboard\", \"https://www.woolsboutiqueuomo.comfmarino-wool-tie-navy-duck\", \"https://www.woolsboutiqueuomo.comfmarino-partridgeeye-wooltie-blue\", \"https://www.woolsboutiqueuomo.comfmarino-wooltie-pieddepoule-check\", \"https://www.woolsboutiqueuomo.comfmarino-wooltie-princeofwales-brown\", \"https://www.woolsboutiqueuomo.comfmarino-wooltie-princeofwales-denim\", \"https://www.woolsboutiqueuomo.comfmarino-wool-tie-princeofwales-mustard\", \"https://www.woolsboutiqueuomo.comfmarino-wool-tie-red-ferrari\", \"https://www.woolsboutiqueuomo.comfmarino-wooltie-skyblue\", \"https://www.woolsboutiqueuomo.comfmarino-handmade-wool-tie-smoke-grey\", \"https://www.woolsboutiqueuomo.comfmarino-wooltie-vitalebarberiscanonico-bordo\", \"https://www.woolsboutiqueuomo.comfmarino-wooltie-vitalebarberiscanonico-green\"]}, {\"product alternates\": [\"https://www.woolsboutiqueuomo.comfmarino-wooltie-drapesitaly-tartan-rust\", \"https://www.woolsboutiqueuomo.comfmarino-wool-tie-drapesitaly-grey\", \"https://www.woolsboutiqueuomo.comfmarino-wooltie-drapesitaly-window-pink\", \"https://www.woolsboutiqueuomo.comfrancesco-marino-wool-tie-prince-wales\"]}, {\"product alternates\": [\"https://www.woolsboutiqueuomo.comhawaiian-silk-tie-brown-fmarino-napoli\", \"https://www.woolsboutiqueuomo.comfmarino-aloha-hawaii-silk-tie-brown\"]}, {\"product alternates\": [\"https://www.woolsboutiqueuomo.comsilk-tie-3folds-micro-diamonds-navy-blue\", \"https://www.woolsboutiqueuomo.comsilk-tie-3-folds-micro-diamonds-navy-blue\"]}, {\"product alternates\": [\"https://www.woolsboutiqueuomo.comsilk-tie-chain-fmarino\", \"https://www.woolsboutiqueuomo.comprinted-silk-tie-chain-black\"]}, {\"product alternates\": [\"https://www.woolsboutiqueuomo.comnavy-blue-wool-tie-medallions-fmarino\", \"https://www.woolsboutiqueuomo.comnavy-blue-wool-tie-medallions\"]}]\n"
     ]
    }
   ],
   "source": [
    "import requests\n",
    "import json\n",
    "\n",
    "def FindAlternateGroups(store_domain):\n",
    "    page = 1\n",
    "    alternate_groups = {}\n",
    "    \n",
    "    while True:\n",
    "# Sending a GET request\n",
    "        url = f\"{store_domain}/collections/all/products.json?page={page}\"\n",
    "        response = requests.get(url)\n",
    "        products_data = response.json()\n",
    "        \n",
    "# Check if more products\n",
    "        if len(products_data['products']) == 0:\n",
    "            break\n",
    "        \n",
    "# Iterating\n",
    "        for product in products_data['products']:\n",
    "            product_title = product['title']\n",
    "            product_link = f\"{store_domain}{product['handle']}\"\n",
    "            \n",
    "# Extracting the product name without color/variation\n",
    "            product_name = product_title.split('-')[0].strip()\n",
    "            \n",
    "            if product_name in alternate_groups:\n",
    "                alternate_groups[product_name].append(product_link)\n",
    "            else:\n",
    "                alternate_groups[product_name] = [product_link]\n",
    "        \n",
    "        page += 1\n",
    "    \n",
    "# Filtering out alternate groups with more than one product\n",
    "    filtered_groups = {name: links for name, links in alternate_groups.items() if len(links) > 1}\n",
    "    \n",
    "# Convert the alternate groups to a JSON array\n",
    "    json_data = [{\"product alternates\": links} for links in filtered_groups.values()]\n",
    "    \n",
    "# Return the JSON array\n",
    "    return json.dumps(json_data)\n",
    "\n",
    "store_domain = \"https://www.woolsboutiqueuomo.com\"\n",
    "alternate_groups = FindAlternateGroups(store_domain)\n",
    "print(alternate_groups)\n"
   ]
  },
  {
   "cell_type": "code",
   "execution_count": 6,
   "id": "cceaddeb",
   "metadata": {},
   "outputs": [
    {
     "name": "stdout",
     "output_type": "stream",
     "text": [
      "Output saved for https://www.woolsboutiqueuomo.com in www.woolsboutiqueuomo.com.json\n",
      "Output saved for https://sartale2022.myshopify.com in sartale2022.myshopify.com.json\n",
      "Output saved for https://berkehome.pl in berkehome.pl.json\n"
     ]
    }
   ],
   "source": [
    "store_domains = [\n",
    "    \"https://www.woolsboutiqueuomo.com\",\n",
    "\n",
    "    \"https://sartale2022.myshopify.com\",\n",
    "\n",
    "    \"https://berkehome.pl\"\n",
    "    \n",
    "]\n",
    "\n",
    "for domain in store_domains:\n",
    "    alternate_groups = FindAlternateGroups(domain)\n",
    "    output_file = f\"{domain.split('//')[1]}.json\"  # Extract domain name and use it as the output file name\n",
    "    with open(output_file, 'w') as file:\n",
    "        json.dump(alternate_groups, file, indent=4)\n",
    "    print(f\"Output saved for {domain} in {output_file}\")\n"
   ]
  },
  {
   "cell_type": "code",
   "execution_count": null,
   "id": "7f47f0e5",
   "metadata": {},
   "outputs": [],
   "source": []
  }
 ],
 "metadata": {
  "kernelspec": {
   "display_name": "Python 3 (ipykernel)",
   "language": "python",
   "name": "python3"
  },
  "language_info": {
   "codemirror_mode": {
    "name": "ipython",
    "version": 3
   },
   "file_extension": ".py",
   "mimetype": "text/x-python",
   "name": "python",
   "nbconvert_exporter": "python",
   "pygments_lexer": "ipython3",
   "version": "3.9.16"
  }
 },
 "nbformat": 4,
 "nbformat_minor": 5
}
